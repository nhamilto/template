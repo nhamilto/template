{
 "cells": [
  {
   "cell_type": "markdown",
   "metadata": {},
   "source": [
    "# Jupyter notebook template\n",
    "This just includes a basic template for a notebook that uses the most common libraries for data i/o and analysis. It also sets up some basic directory calls for data and figures."
   ]
  },
  {
   "cell_type": "code",
   "execution_count": null,
   "metadata": {},
   "outputs": [],
   "source": [
    "### system-level libs\n",
    "import os, sys\n",
    "\n",
    "### analysis libs\n",
    "import numpy as np\n",
    "import pandas as pd\n",
    "import scipy as sp\n",
    "\n",
    "### home-made libs\n",
    "# sys.path.append('../scripts/')\n",
    "# import utils\n",
    "# import vis\n",
    "\n",
    "### plotting libs\n",
    "import matplotlib.pyplot as plt\n",
    "plt.style.use('nrelplot')\n",
    "\n",
    "### some convenient magics\n",
    "%load_ext autoreload\n",
    "%autoreload 2\n",
    "\n",
    "### Directory setup\n",
    "cwd = os.getcwd()\n",
    "datapath = os.path.abspath(os.path.join(cwd, '../../data/'))\n",
    "figpath = os.path.abspath(os.path.join(cwd, '../figs/'))"
   ]
  }
 ],
 "metadata": {
  "kernelspec": {
   "display_name": "Python 3",
   "language": "python",
   "name": "python3"
  },
  "language_info": {
   "codemirror_mode": {
    "name": "ipython",
    "version": 3
   },
   "file_extension": ".py",
   "mimetype": "text/x-python",
   "name": "python",
   "nbconvert_exporter": "python",
   "pygments_lexer": "ipython3",
   "version": "3.6.8"
  }
 },
 "nbformat": 4,
 "nbformat_minor": 2
}
